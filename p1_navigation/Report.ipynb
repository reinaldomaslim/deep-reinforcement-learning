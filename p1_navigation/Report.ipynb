{
 "cells": [
  {
   "cell_type": "markdown",
   "metadata": {},
   "source": [
    "# REPORT\n",
    "### Reinaldo Maslim\n",
    "\n",
    "The learning algorithm used here is DQN agent with 3 fully connected layers. The first and second layers have 64 units, while the output layer has 4 which is equal to the environment's action size. \n",
    "\n",
    "Below are the list of hyperparameters in this implementation:\n",
    "\n",
    "    fc1_units        # number of nodes in first hidden layer\n",
    "    fc2_units        # number of nodes in second hidden layer\n",
    "    BUFFER_SIZE      # replay buffer size\n",
    "    BATCH_SIZE       # minibatch size\n",
    "    GAMMA            # discount factor\n",
    "    TAU              # for soft update of target parameters\n",
    "    LR               # learning rate \n",
    "    UPDATE_EVERY     # how often to update the network\n",
    "    n_episodes       # maximum number of training episodes\n",
    "    max_t            # maximum number of timesteps per episode\n",
    "    eps_start        # starting value of epsilon (epsilon-greedy)\n",
    "    eps_end          # minimum value of epsilon (epsilon-greedy)\n",
    "    eps_decay        # multiplicative factor (per episode) for decreasing epsilon\n",
    "\n",
    "\n",
    "Using the above parameters combinations we can achieve the target average reward of minimum +13 within 300 episodes as shown below.\n",
    "\n",
    "![alt text](graph.png)\n",
    "\n",
    "More works that may improve the performances are:\n",
    "\n",
    "1. Apply deeper network to better approximate q-value function.\n",
    "2. Implement more sophisticated variations of dqn such as duelling_dqn or double_dqn \n",
    "3. Use prioritized experience replay\n",
    "4. Perform coarse coding on the states"
   ]
  }
 ],
 "metadata": {
  "kernelspec": {
   "display_name": "Python 3",
   "language": "python",
   "name": "python3"
  },
  "language_info": {
   "codemirror_mode": {
    "name": "ipython",
    "version": 3
   },
   "file_extension": ".py",
   "mimetype": "text/x-python",
   "name": "python",
   "nbconvert_exporter": "python",
   "pygments_lexer": "ipython3",
   "version": "3.5.2"
  }
 },
 "nbformat": 4,
 "nbformat_minor": 2
}
